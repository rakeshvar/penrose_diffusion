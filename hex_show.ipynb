{
 "cells": [
  {
   "cell_type": "code",
   "execution_count": 1,
   "id": "b951101f",
   "metadata": {},
   "outputs": [],
   "source": [
    "from hex_rings import *\n",
    "from hex_svg import generate_hex_svg, display_hex_svg"
   ]
  },
  {
   "cell_type": "code",
   "execution_count": 9,
   "id": "bc064ce1",
   "metadata": {
    "scrolled": false
   },
   "outputs": [
    {
     "ename": "TypeError",
     "evalue": "display_hex_svg() got an unexpected keyword argument 'show_coords'",
     "output_type": "error",
     "traceback": [
      "\u001b[0;31m---------------------------------------------------------------------------\u001b[0m",
      "\u001b[0;31mTypeError\u001b[0m                                 Traceback (most recent call last)",
      "Cell \u001b[0;32mIn[9], line 2\u001b[0m\n\u001b[1;32m      1\u001b[0m hexes1 \u001b[38;5;241m=\u001b[39m get_hex_rings_count(\u001b[38;5;241m10000\u001b[39m)\n\u001b[0;32m----> 2\u001b[0m \u001b[43mdisplay_hex_svg\u001b[49m\u001b[43m(\u001b[49m\u001b[43mhexes1\u001b[49m\u001b[43m,\u001b[49m\u001b[43m \u001b[49m\u001b[38;5;241;43m5\u001b[39;49m\u001b[43m,\u001b[49m\u001b[43m \u001b[49m\u001b[43mshow_coords\u001b[49m\u001b[38;5;241;43m=\u001b[39;49m\u001b[38;5;28;43;01mFalse\u001b[39;49;00m\u001b[43m)\u001b[49m\n",
      "\u001b[0;31mTypeError\u001b[0m: display_hex_svg() got an unexpected keyword argument 'show_coords'"
     ]
    }
   ],
   "source": [
    "hexes1 = get_hex_rings_count(10000)\n",
    "display_hex_svg(hexes1, 5, show_coords=False)"
   ]
  },
  {
   "cell_type": "code",
   "execution_count": null,
   "id": "3b36051b",
   "metadata": {},
   "outputs": [],
   "source": []
  }
 ],
 "metadata": {
  "kernelspec": {
   "display_name": "Python 3",
   "language": "python",
   "name": "python3"
  },
  "language_info": {
   "codemirror_mode": {
    "name": "ipython",
    "version": 3
   },
   "file_extension": ".py",
   "mimetype": "text/x-python",
   "name": "python",
   "nbconvert_exporter": "python",
   "pygments_lexer": "ipython3",
   "version": "3.12.3"
  }
 },
 "nbformat": 4,
 "nbformat_minor": 5
}
